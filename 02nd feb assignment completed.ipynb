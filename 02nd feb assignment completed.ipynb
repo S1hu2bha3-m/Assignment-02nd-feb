{
 "cells": [
  {
   "cell_type": "markdown",
   "id": "4672006b-318b-42ea-8e95-e31264c40b37",
   "metadata": {},
   "source": [
    "Q1.  Explain with an example each when to use a for loop and a while loop.\n"
   ]
  },
  {
   "cell_type": "markdown",
   "id": "8ee71192-c234-4f91-8ec6-77c109690395",
   "metadata": {},
   "source": [
    "Ans. A for loop is used when you want to repeat a block of code a specific number of times. An example of a for loop would be to print the numbers 1 to 10:"
   ]
  },
  {
   "cell_type": "code",
   "execution_count": null,
   "id": "9b9203d3-0c6b-42a3-b4d6-e220aad8a8f4",
   "metadata": {},
   "outputs": [],
   "source": [
    "for i in range(1, 11):\n",
    "    print(i)\n"
   ]
  },
  {
   "cell_type": "markdown",
   "id": "8dcc8046-8664-4075-a185-62a67c892c92",
   "metadata": {},
   "source": [
    "A while loop is used when you want to repeat a block of code as long as a certain condition is met. An example of a while loop would be to print numbers from 1 to 10 until the number 5 is reached:"
   ]
  },
  {
   "cell_type": "code",
   "execution_count": null,
   "id": "88320eff-f5dc-4101-8385-0e45aead41f1",
   "metadata": {},
   "outputs": [],
   "source": [
    "i = 1\n",
    "while i <= 10:\n",
    "    print(i)\n",
    "    if i == 5:\n",
    "        break\n",
    "    i += 1\n"
   ]
  },
  {
   "cell_type": "markdown",
   "id": "9eebc802-eee6-4190-a664-e9293c034945",
   "metadata": {},
   "source": [
    "Q2.  Write a python program to print the sum and product of the first 10 natural numbers using for\n",
    "and while loop."
   ]
  },
  {
   "cell_type": "markdown",
   "id": "f7b344a6-965c-45b0-abb1-1323f799d2a6",
   "metadata": {},
   "source": [
    "Here is an example using a for loop to find the sum and product of the first 10 natural numbers:"
   ]
  },
  {
   "cell_type": "code",
   "execution_count": 2,
   "id": "683f8487-5212-446c-b353-636198ac8003",
   "metadata": {},
   "outputs": [
    {
     "name": "stdout",
     "output_type": "stream",
     "text": [
      "Sum of first 10 natural numbers: 55\n",
      "Product of first 10 natural numbers: 3628800\n"
     ]
    }
   ],
   "source": [
    "sum = 0\n",
    "product = 1\n",
    "for i in range(1, 11):\n",
    "    sum += i\n",
    "    product *= i\n",
    "print(\"Sum of first 10 natural numbers:\", sum)\n",
    "print(\"Product of first 10 natural numbers:\", product)\n"
   ]
  },
  {
   "cell_type": "markdown",
   "id": "ee01f69e-f9bd-40a9-8037-dd4ead555d49",
   "metadata": {},
   "source": [
    "And here is an example using a while loop:"
   ]
  },
  {
   "cell_type": "code",
   "execution_count": 1,
   "id": "2ab8e844-0aa3-4289-af50-cb73950f0147",
   "metadata": {},
   "outputs": [
    {
     "name": "stdout",
     "output_type": "stream",
     "text": [
      "Sum of first 10 natural numbers: 55\n",
      "Product of first 10 natural numbers: 3628800\n"
     ]
    }
   ],
   "source": [
    "sum = 0\n",
    "product = 1\n",
    "i = 1\n",
    "while i <= 10:\n",
    "    sum += i\n",
    "    product *= i\n",
    "    i += 1\n",
    "print(\"Sum of first 10 natural numbers:\", sum)\n",
    "print(\"Product of first 10 natural numbers:\", product)\n"
   ]
  },
  {
   "cell_type": "markdown",
   "id": "c41c4eef-4799-4ab6-a255-ca47fff61044",
   "metadata": {},
   "source": [
    "Q3. Create a python program to compute the electricity bill for a household.\n",
    "\n",
    "The per-unit charges in rupees are as follows: For the first 100 units, the user will be charged Rs. 4.5 per\n",
    "unit, for the next 100 units, the user will be charged Rs. 6 per unit, and for the next 100 units, the user will\n",
    "be charged Rs. 10 per unit, After 300 units and above the user will be charged Rs. 20 per unit.\n",
    "\n",
    "\n",
    "You are required to take the units of electricity consumed in a month from the user as input.\n",
    "\n",
    "\n",
    "Your program must pass this test case: when the unit of electricity consumed by the user in a month is\n",
    "310, the total electricity bill should be 2250."
   ]
  },
  {
   "cell_type": "code",
   "execution_count": 3,
   "id": "0d91a1ec-b5e1-4216-83f5-9aa615f60b87",
   "metadata": {},
   "outputs": [
    {
     "name": "stdin",
     "output_type": "stream",
     "text": [
      "Enter the units of electricity consumed:  200\n"
     ]
    },
    {
     "name": "stdout",
     "output_type": "stream",
     "text": [
      "The total electricity bill is: 1050.0\n"
     ]
    }
   ],
   "source": [
    "units = int(input(\"Enter the units of electricity consumed: \"))\n",
    "if units <= 100:\n",
    "    bill = units * 4.5\n",
    "elif units <= 200:\n",
    "    bill = (100 * 4.5) + ((units-100) * 6)\n",
    "elif units <= 300:\n",
    "    bill = (100 * 4.5) + (100 * 6) + ((units-200) * 10)\n",
    "else:\n",
    "    bill = (100 * 4.5) + (100 * 6) + (100 * 10) + ((units-300) * 20)\n",
    "print(\"The total electricity bill is:\", bill)\n"
   ]
  },
  {
   "cell_type": "markdown",
   "id": "00bd4f02-c7a2-441d-bb62-1cfce57861e4",
   "metadata": {},
   "source": [
    "When the input for the number of units consumed is 310, the output will be:\n",
    "The total electricity bill is: 2250.0\n"
   ]
  },
  {
   "cell_type": "markdown",
   "id": "cda57756-b45d-4734-aa35-9d8129ed62c4",
   "metadata": {},
   "source": [
    "Q4. Create a list of numbers from 1 to 100. Use for loop and while loop to calculate the cube of each\n",
    "number and if the cube of that number is divisible by 4 or 5 then append that number in a list and print\n",
    "that list."
   ]
  },
  {
   "cell_type": "code",
   "execution_count": 5,
   "id": "2211a421-c98b-4a9e-a39b-922fb97ec02f",
   "metadata": {},
   "outputs": [
    {
     "name": "stdout",
     "output_type": "stream",
     "text": [
      "Numbers whose cube is divisible by 4 or 5: [2, 4, 5, 6, 8, 10, 12, 14, 15, 16, 18, 20, 22, 24, 25, 26, 28, 30, 32, 34, 35, 36, 38, 40, 42, 44, 45, 46, 48, 50, 52, 54, 55, 56, 58, 60, 62, 64, 65, 66, 68, 70, 72, 74, 75, 76, 78, 80, 82, 84, 85, 86, 88, 90, 92, 94, 95, 96, 98, 100]\n"
     ]
    }
   ],
   "source": [
    "# using for loop\n",
    "numbers = []\n",
    "for i in range(1, 101):\n",
    "    cube = i ** 3\n",
    "    if cube % 4 == 0 or cube % 5 == 0:\n",
    "        numbers.append(i)\n",
    "print(\"Numbers whose cube is divisible by 4 or 5:\", numbers)\n"
   ]
  },
  {
   "cell_type": "code",
   "execution_count": 6,
   "id": "33fde2a1-20b4-4b2d-bff3-43fe786c4911",
   "metadata": {},
   "outputs": [
    {
     "name": "stdout",
     "output_type": "stream",
     "text": [
      "Numbers whose cube is divisible by 4 or 5: [2, 4, 5, 6, 8, 10, 12, 14, 15, 16, 18, 20, 22, 24, 25, 26, 28, 30, 32, 34, 35, 36, 38, 40, 42, 44, 45, 46, 48, 50, 52, 54, 55, 56, 58, 60, 62, 64, 65, 66, 68, 70, 72, 74, 75, 76, 78, 80, 82, 84, 85, 86, 88, 90, 92, 94, 95, 96, 98, 100]\n"
     ]
    }
   ],
   "source": [
    "# using while loop\n",
    "numbers = []\n",
    "i = 1\n",
    "while i <= 100:\n",
    "    cube = i ** 3\n",
    "    if cube % 4 == 0 or cube % 5 == 0:\n",
    "        numbers.append(i)\n",
    "    i += 1\n",
    "print(\"Numbers whose cube is divisible by 4 or 5:\", numbers)\n"
   ]
  },
  {
   "cell_type": "markdown",
   "id": "505cef4c-de56-420c-a0c9-4a36f52d9dbf",
   "metadata": {},
   "source": [
    "Q5.  Write a program to filter count vowels in the below-given string.\n",
    "\n",
    "string = \"I want to become a data scientist\"\n"
   ]
  },
  {
   "cell_type": "code",
   "execution_count": 7,
   "id": "c084a4d8-b9fe-4b0c-abaf-ba92da4ced4b",
   "metadata": {},
   "outputs": [
    {
     "name": "stdout",
     "output_type": "stream",
     "text": [
      "Number of vowels in the string: 12\n"
     ]
    }
   ],
   "source": [
    "string = \"I want to become a data scientist\"\n",
    "vowels = \"aeiouAEIOU\"\n",
    "count = 0\n",
    "for char in string:\n",
    "    if char in vowels:\n",
    "        count += 1\n",
    "print(\"Number of vowels in the string:\", count)\n"
   ]
  },
  {
   "cell_type": "code",
   "execution_count": null,
   "id": "217c49d6-94be-4d3e-bff9-c46ad921b06e",
   "metadata": {},
   "outputs": [],
   "source": []
  }
 ],
 "metadata": {
  "kernelspec": {
   "display_name": "Python 3 (ipykernel)",
   "language": "python",
   "name": "python3"
  },
  "language_info": {
   "codemirror_mode": {
    "name": "ipython",
    "version": 3
   },
   "file_extension": ".py",
   "mimetype": "text/x-python",
   "name": "python",
   "nbconvert_exporter": "python",
   "pygments_lexer": "ipython3",
   "version": "3.10.8"
  }
 },
 "nbformat": 4,
 "nbformat_minor": 5
}
